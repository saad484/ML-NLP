{
  "nbformat": 4,
  "nbformat_minor": 0,
  "metadata": {
    "colab": {
      "provenance": [],
      "authorship_tag": "ABX9TyO98HkooEXLrlJbwpHAZ+QC",
      "include_colab_link": true
    },
    "kernelspec": {
      "name": "python3",
      "display_name": "Python 3"
    },
    "language_info": {
      "name": "python"
    }
  },
  "cells": [
    {
      "cell_type": "markdown",
      "metadata": {
        "id": "view-in-github",
        "colab_type": "text"
      },
      "source": [
        "<a href=\"https://colab.research.google.com/github/saad484/ML_NLP/blob/main/Ex1nltk.ipynb\" target=\"_parent\"><img src=\"https://colab.research.google.com/assets/colab-badge.svg\" alt=\"Open In Colab\"/></a>"
      ]
    },
    {
      "cell_type": "markdown",
      "source": [
        "En utilisant les expressions réguliers, écrire une fonction qui permet de supprimer les caractères spéciaux et les mots entre crochets des chaines ci-dessus :"
      ],
      "metadata": {
        "id": "JAVi9siqzWcR"
      }
    },
    {
      "cell_type": "code",
      "execution_count": 1,
      "metadata": {
        "colab": {
          "base_uri": "https://localhost:8080/"
        },
        "id": "iwVC2GePyt3o",
        "outputId": "0ccd3349-6056-464c-a4ed-93642b041df1"
      },
      "outputs": [
        {
          "output_type": "stream",
          "name": "stdout",
          "text": [
            "['hello, python is a great language', 'python is not a good programming language', 'C++ has been used for years', 'I loved this movie ']\n",
            "['hello python is a great language', 'python is not a good programming language', 'C has been used for years', 'I loved this movie ']\n"
          ]
        }
      ],
      "source": [
        "Text = [\"hello, python is a great language\", \"python is not a good programming language\",\"C++ has been used for years\", \"I loved this movie [12]\" ]\n",
        "import re\n",
        "def supprimer_crochets(text):\n",
        " text = re.sub('\\[[^]]*\\]','',text)\n",
        " return text\n",
        "def supprimer_special(Text):\n",
        " pattern = r'[^a-zA-Z0-9\\s]'\n",
        " text = re.sub(pattern,'',Text)\n",
        " return text\n",
        "i = 0\n",
        "for elem in Text:\n",
        " Text[i] = supprimer_crochets(elem)\n",
        " i = i+1\n",
        "print(Text)\n",
        "i = 0\n",
        "for elem in Text:\n",
        " Text[i] = supprimer_special(elem)\n",
        " i = i+1\n",
        "print(Text)\n"
      ]
    },
    {
      "cell_type": "markdown",
      "source": [
        "En utilisant la bibliothèque nltk, écrire une fonction qui permet de\n",
        "appliquer les stemming sur les chaines de caractères ci-dessous :"
      ],
      "metadata": {
        "id": "yrUpXGSczm4M"
      }
    },
    {
      "cell_type": "code",
      "source": [
        "import nltk\n",
        "nltk.download([\n",
        "  \"names\",\n",
        " \"stopwords\",\n",
        " \"state_union\",\n",
        " \"twitter_samples\",\n",
        " \"movie_reviews\",\n",
        " \"averaged_perceptron_tagger\",\n",
        " \"vader_lexicon\",\n",
        " \"punkt\",\n",
        "])\n",
        "def simple_stemmer(text):\n",
        " ps=nltk.porter.PorterStemmer()\n",
        " text= ' '.join([ps.stem(word) for word in text.split()])\n",
        " return text\n",
        "i = 0\n",
        "for elem in Text:\n",
        " Text[i] = simple_stemmer(elem)\n",
        " i = i+1\n",
        "print(Text)"
      ],
      "metadata": {
        "colab": {
          "base_uri": "https://localhost:8080/"
        },
        "id": "kbexYNUezPtY",
        "outputId": "c6059f83-c916-45f5-bddf-822b7b05ff1a"
      },
      "execution_count": 3,
      "outputs": [
        {
          "output_type": "stream",
          "name": "stderr",
          "text": [
            "[nltk_data] Downloading package names to /root/nltk_data...\n",
            "[nltk_data]   Unzipping corpora/names.zip.\n",
            "[nltk_data] Downloading package stopwords to /root/nltk_data...\n",
            "[nltk_data]   Unzipping corpora/stopwords.zip.\n",
            "[nltk_data] Downloading package state_union to /root/nltk_data...\n",
            "[nltk_data]   Unzipping corpora/state_union.zip.\n",
            "[nltk_data] Downloading package twitter_samples to /root/nltk_data...\n",
            "[nltk_data]   Unzipping corpora/twitter_samples.zip.\n",
            "[nltk_data] Downloading package movie_reviews to /root/nltk_data...\n",
            "[nltk_data]   Unzipping corpora/movie_reviews.zip.\n",
            "[nltk_data] Downloading package averaged_perceptron_tagger to\n",
            "[nltk_data]     /root/nltk_data...\n",
            "[nltk_data]   Unzipping taggers/averaged_perceptron_tagger.zip.\n",
            "[nltk_data] Downloading package vader_lexicon to /root/nltk_data...\n",
            "[nltk_data] Downloading package punkt to /root/nltk_data...\n",
            "[nltk_data]   Unzipping tokenizers/punkt.zip.\n"
          ]
        },
        {
          "output_type": "stream",
          "name": "stdout",
          "text": [
            "['hello python is a great languag', 'python is not a good program languag', 'c ha been use for year', 'i love thi movi']\n"
          ]
        }
      ]
    },
    {
      "cell_type": "markdown",
      "source": [
        "appliquer la tokenization, puis supprimer les stops words"
      ],
      "metadata": {
        "id": "wwnQI0xN0LxZ"
      }
    },
    {
      "cell_type": "code",
      "source": [
        "from nltk.tokenize.toktok import ToktokTokenizer\n",
        "tokenizer=ToktokTokenizer()\n",
        "stopword_list=nltk.corpus.stopwords.words('english')\n",
        "print(stopword_list)\n",
        "def remove_stopwords(text):\n",
        " tokens = tokenizer.tokenize(text)\n",
        " tokens = [token.strip() for token in tokens]\n",
        " filtered_tokens = [token for token in tokens if token not in stopword_list]\n",
        " filtered_text = ' '.join(filtered_tokens)\n",
        " return filtered_text\n",
        "i = 0\n",
        "for elem in Text:\n",
        " Text[i] = remove_stopwords(elem)\n",
        " i = i+1\n",
        "print(Text)\n",
        "# l’analyse TFIDF (optionnel)\n",
        "from sklearn.feature_extraction.text import TfidfVectorizer\n",
        "#Tfidf vectorizer\n",
        "tv=TfidfVectorizer()\n",
        "#transformed train reviews\n",
        "tv_train_text=tv.fit_transform(Text)\n",
        "print(tv_train_text)"
      ],
      "metadata": {
        "colab": {
          "base_uri": "https://localhost:8080/"
        },
        "id": "Ns22AlPP0Ciy",
        "outputId": "d4ee705b-c4f7-4d79-feb7-0ad13a74489d"
      },
      "execution_count": 4,
      "outputs": [
        {
          "output_type": "stream",
          "name": "stdout",
          "text": [
            "['i', 'me', 'my', 'myself', 'we', 'our', 'ours', 'ourselves', 'you', \"you're\", \"you've\", \"you'll\", \"you'd\", 'your', 'yours', 'yourself', 'yourselves', 'he', 'him', 'his', 'himself', 'she', \"she's\", 'her', 'hers', 'herself', 'it', \"it's\", 'its', 'itself', 'they', 'them', 'their', 'theirs', 'themselves', 'what', 'which', 'who', 'whom', 'this', 'that', \"that'll\", 'these', 'those', 'am', 'is', 'are', 'was', 'were', 'be', 'been', 'being', 'have', 'has', 'had', 'having', 'do', 'does', 'did', 'doing', 'a', 'an', 'the', 'and', 'but', 'if', 'or', 'because', 'as', 'until', 'while', 'of', 'at', 'by', 'for', 'with', 'about', 'against', 'between', 'into', 'through', 'during', 'before', 'after', 'above', 'below', 'to', 'from', 'up', 'down', 'in', 'out', 'on', 'off', 'over', 'under', 'again', 'further', 'then', 'once', 'here', 'there', 'when', 'where', 'why', 'how', 'all', 'any', 'both', 'each', 'few', 'more', 'most', 'other', 'some', 'such', 'no', 'nor', 'not', 'only', 'own', 'same', 'so', 'than', 'too', 'very', 's', 't', 'can', 'will', 'just', 'don', \"don't\", 'should', \"should've\", 'now', 'd', 'll', 'm', 'o', 're', 've', 'y', 'ain', 'aren', \"aren't\", 'couldn', \"couldn't\", 'didn', \"didn't\", 'doesn', \"doesn't\", 'hadn', \"hadn't\", 'hasn', \"hasn't\", 'haven', \"haven't\", 'isn', \"isn't\", 'ma', 'mightn', \"mightn't\", 'mustn', \"mustn't\", 'needn', \"needn't\", 'shan', \"shan't\", 'shouldn', \"shouldn't\", 'wasn', \"wasn't\", 'weren', \"weren't\", 'won', \"won't\", 'wouldn', \"wouldn't\"]\n",
            "['hello python great languag', 'python good program languag', 'c ha use year', 'love thi movi']\n",
            "  (0, 4)\t0.43779123108611473\n",
            "  (0, 1)\t0.5552826649411127\n",
            "  (0, 8)\t0.43779123108611473\n",
            "  (0, 3)\t0.5552826649411127\n",
            "  (1, 7)\t0.5552826649411127\n",
            "  (1, 0)\t0.5552826649411127\n",
            "  (1, 4)\t0.43779123108611473\n",
            "  (1, 8)\t0.43779123108611473\n",
            "  (2, 11)\t0.5773502691896257\n",
            "  (2, 10)\t0.5773502691896257\n",
            "  (2, 2)\t0.5773502691896257\n",
            "  (3, 6)\t0.5773502691896257\n",
            "  (3, 9)\t0.5773502691896257\n",
            "  (3, 5)\t0.5773502691896257\n"
          ]
        }
      ]
    },
    {
      "cell_type": "markdown",
      "source": [],
      "metadata": {
        "id": "eIY5TEyqzVZd"
      }
    }
  ]
}